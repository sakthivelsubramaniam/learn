{
 "metadata": {
  "language_info": {
   "codemirror_mode": {
    "name": "ipython",
    "version": 3
   },
   "file_extension": ".py",
   "mimetype": "text/x-python",
   "name": "python",
   "nbconvert_exporter": "python",
   "pygments_lexer": "ipython3",
   "version": "3.9.0-final"
  },
  "orig_nbformat": 2,
  "kernelspec": {
   "name": "python3",
   "display_name": "Python 3.9.0 64-bit",
   "metadata": {
    "interpreter": {
     "hash": "d9664298e87b57676da65e36b4b22c587cc2a13c908a1ef3ab474e6da87630e0"
    }
   }
  }
 },
 "nbformat": 4,
 "nbformat_minor": 2,
 "cells": [
  {
   "cell_type": "code",
   "execution_count": 14,
   "metadata": {},
   "outputs": [
    {
     "output_type": "execute_result",
     "data": {
      "text/plain": [
       "<zip at 0x2a0311b5180>"
      ]
     },
     "metadata": {},
     "execution_count": 14
    }
   ],
   "source": [
    "aList = [2,4,5,6,3,4,5,6]\n",
    "len(aList)\n",
    "#min(aList)\n",
    "#max(aList)\n",
    "x = [3,3,5,6,7]\n",
    "y = [6,4,7,7,9]\n",
    "zip ( x, y)\n",
    "\n"
   ]
  },
  {
   "cell_type": "code",
   "execution_count": null,
   "metadata": {},
   "outputs": [],
   "source": []
  }
 ]
}
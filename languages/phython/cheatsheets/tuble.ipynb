{
 "metadata": {
  "language_info": {
   "codemirror_mode": {
    "name": "ipython",
    "version": 3
   },
   "file_extension": ".py",
   "mimetype": "text/x-python",
   "name": "python",
   "nbconvert_exporter": "python",
   "pygments_lexer": "ipython3",
   "version": "3.9.0-final"
  },
  "orig_nbformat": 2,
  "kernelspec": {
   "name": "python3",
   "display_name": "Python 3.9.0 64-bit",
   "metadata": {
    "interpreter": {
     "hash": "d9664298e87b57676da65e36b4b22c587cc2a13c908a1ef3ab474e6da87630e0"
    }
   }
  }
 },
 "nbformat": 4,
 "nbformat_minor": 2,
 "cells": [
  {
   "cell_type": "code",
   "execution_count": 4,
   "metadata": {},
   "outputs": [
    {
     "output_type": "stream",
     "name": "stdout",
     "text": [
      "(1, 2)\n"
     ]
    }
   ],
   "source": [
    "t=(1,2)\n",
    "print(t)"
   ]
  },
  {
   "cell_type": "code",
   "execution_count": 21,
   "metadata": {},
   "outputs": [
    {
     "output_type": "stream",
     "name": "stdout",
     "text": [
      "(1, 2, 3, 2, 5)\nindex of 3 is  2\nindex of 5 is  4\nnumber of times 2 appears in  2\n"
     ]
    }
   ],
   "source": [
    "# adding two tuple\n",
    "t=(1,2) + (3,2,5)\n",
    "print(t)\n",
    "\n",
    "print(\"index of 3 is \",t.index(3))\n",
    "print(\"index of 5 is \",t.index(5))\n",
    "\n",
    "print(\"number of times 2 appears in \", t.count(2))\n"
   ]
  },
  {
   "cell_type": "code",
   "execution_count": null,
   "metadata": {},
   "outputs": [],
   "source": []
  }
 ]
}